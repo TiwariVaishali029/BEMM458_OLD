{
 "cells": [
  {
   "cell_type": "code",
   "execution_count": null,
   "id": "crucial-industry",
   "metadata": {},
   "outputs": [],
   "source": []
  },
  {
   "cell_type": "markdown",
   "id": "oriental-variety",
   "metadata": {},
   "source": [
    "# BEMM458J Final assignment"
   ]
  },
  {
   "cell_type": "code",
   "execution_count": null,
   "id": "technical-orlando",
   "metadata": {},
   "outputs": [],
   "source": []
  },
  {
   "cell_type": "markdown",
   "id": "minimal-difficulty",
   "metadata": {},
   "source": [
    "## You are a business analyst at the marketing department of Coca Cola. There is an increasing debate on social media in relation to the negative impact of plastic consumption on the environment."
   ]
  },
  {
   "cell_type": "markdown",
   "id": "informational-archives",
   "metadata": {},
   "source": [
    "## As of recently NGOs have started campaigning against Coca Cola and other multinationals. "
   ]
  },
  {
   "cell_type": "markdown",
   "id": "duplicate-location",
   "metadata": {},
   "source": [
    "## General management needs you to conduct an analysis of recent conversations posted on Twitter for the purposes of determining the communication strategies followed by NGOs and how Coca Cola must engage on social media."
   ]
  },
  {
   "cell_type": "code",
   "execution_count": null,
   "id": "driving-expert",
   "metadata": {},
   "outputs": [],
   "source": []
  },
  {
   "cell_type": "code",
   "execution_count": 1,
   "id": "solar-disco",
   "metadata": {},
   "outputs": [],
   "source": [
    "import pandas as pd"
   ]
  },
  {
   "cell_type": "code",
   "execution_count": 2,
   "id": "australian-monaco",
   "metadata": {},
   "outputs": [
    {
     "data": {
      "text/html": [
       "<style>.container { width:100% !important; }</style>"
      ],
      "text/plain": [
       "<IPython.core.display.HTML object>"
      ]
     },
     "metadata": {},
     "output_type": "display_data"
    }
   ],
   "source": [
    "from IPython.core.display import display, HTML\n",
    "display(HTML(\"<style>.container { width:100% !important; }</style>\"))"
   ]
  },
  {
   "cell_type": "code",
   "execution_count": 3,
   "id": "derived-boundary",
   "metadata": {},
   "outputs": [],
   "source": [
    "pd.options.display.max_colwidth = 400"
   ]
  },
  {
   "cell_type": "code",
   "execution_count": 4,
   "id": "educational-juvenile",
   "metadata": {},
   "outputs": [],
   "source": [
    "\n",
    "\n",
    "ConversationsLean=pd.read_csv('../data/ConversationsLean.csv')"
   ]
  },
  {
   "cell_type": "code",
   "execution_count": 5,
   "id": "moving-university",
   "metadata": {},
   "outputs": [
    {
     "name": "stdout",
     "output_type": "stream",
     "text": [
      "<class 'pandas.core.frame.DataFrame'>\n",
      "RangeIndex: 447 entries, 0 to 446\n",
      "Data columns (total 31 columns):\n",
      " #   Column                       Non-Null Count  Dtype  \n",
      "---  ------                       --------------  -----  \n",
      " 0   Unnamed: 0                   447 non-null    int64  \n",
      " 1   tweet.created_at             447 non-null    object \n",
      " 2   tweet.id                     447 non-null    float64\n",
      " 3   tweet.full_text              447 non-null    object \n",
      " 4   tweet.entities               447 non-null    object \n",
      " 5   tweet.user.id                447 non-null    int64  \n",
      " 6   tweet.user.screen_name       447 non-null    object \n",
      " 7   tweet.user.followers_count   447 non-null    int64  \n",
      " 8   tweet.user.friends_count     447 non-null    int64  \n",
      " 9   tweet.user.favourites_count  447 non-null    int64  \n",
      " 10  tweet.user.statuses_count    447 non-null    int64  \n",
      " 11  tweet.retweet_count          447 non-null    float64\n",
      " 12  tweet.favorite_count         447 non-null    float64\n",
      " 13  tweet.favorited              447 non-null    bool   \n",
      " 14  tweet.retweeted              447 non-null    bool   \n",
      " 15  tweet.lang                   447 non-null    object \n",
      " 16  fetchedAt                    447 non-null    object \n",
      " 17  tweet.full_text_clean        447 non-null    object \n",
      " 18  anger                        447 non-null    float64\n",
      " 19  fear                         447 non-null    float64\n",
      " 20  joy                          447 non-null    float64\n",
      " 21  love                         447 non-null    float64\n",
      " 22  sadness                      447 non-null    float64\n",
      " 23  trust                        447 non-null    float64\n",
      " 24  identity_hate                447 non-null    float64\n",
      " 25  insult                       447 non-null    float64\n",
      " 26  obscene                      447 non-null    float64\n",
      " 27  severe_toxic                 447 non-null    float64\n",
      " 28  threat                       447 non-null    float64\n",
      " 29  toxic                        447 non-null    float64\n",
      " 30  stakeholder                  440 non-null    object \n",
      "dtypes: bool(2), float64(15), int64(6), object(8)\n",
      "memory usage: 102.3+ KB\n"
     ]
    }
   ],
   "source": [
    "ConversationsLean.info()"
   ]
  },
  {
   "cell_type": "code",
   "execution_count": 6,
   "id": "thorough-bidding",
   "metadata": {},
   "outputs": [
    {
     "data": {
      "text/plain": [
       "Unnamed: 0                                                                                                                                                                                                                                                                                                                                                                                                                                   4\n",
       "tweet.created_at                                                                                                                                                                                                                                                                                                                                                                                                    2019-12-17 19:50:37.000000\n",
       "tweet.id                                                                                                                                                                                                                                                                                                                                                                                                                           1.20703e+18\n",
       "tweet.full_text                                                                                                                                                                                                                               Stop plastic pollution at its source. #NoPttGlobalCracker  @GCNewsL @GovMikeDeWine protect our kids’ health and #SavetheOhioRiver #PlanetOrPlastic #BreakFreeFromPlastic https://t.co/xYq2gjm2TY\n",
       "tweet.entities                 {'hashtags': [{'text': 'NoPttGlobalCracker', 'indices': [38, 57]}, {'text': 'SavetheOhioRiver', 'indices': [112, 129]}, {'text': 'PlanetOrPlastic', 'indices': [130, 146]}, {'text': 'BreakFreeFromPlastic', 'indices': [147, 168]}], 'symbols': [], 'user_mentions': [{'screen_name': 'GCNewsl', 'name': 'GCNews', 'id': 1680442778, 'id_str': '1680442778', 'indices': [59, 67]}, {'screen_name': 'GovMike...\n",
       "tweet.user.id                                                                                                                                                                                                                                                                                                                                                                                                                         71310291\n",
       "tweet.user.screen_name                                                                                                                                                                                                                                                                                                                                                                                                         PlasticPollutes\n",
       "tweet.user.followers_count                                                                                                                                                                                                                                                                                                                                                                                                               45953\n",
       "tweet.user.friends_count                                                                                                                                                                                                                                                                                                                                                                                                                  6595\n",
       "tweet.user.favourites_count                                                                                                                                                                                                                                                                                                                                                                                                              13453\n",
       "tweet.user.statuses_count                                                                                                                                                                                                                                                                                                                                                                                                                18732\n",
       "tweet.retweet_count                                                                                                                                                                                                                                                                                                                                                                                                                          4\n",
       "tweet.favorite_count                                                                                                                                                                                                                                                                                                                                                                                                                        12\n",
       "tweet.favorited                                                                                                                                                                                                                                                                                                                                                                                                                          False\n",
       "tweet.retweeted                                                                                                                                                                                                                                                                                                                                                                                                                          False\n",
       "tweet.lang                                                                                                                                                                                                                                                                                                                                                                                                                                  en\n",
       "fetchedAt                                                                                                                                                                                                                                                                                                                                                                                                           2019-12-29 07:02:29.624132\n",
       "tweet.full_text_clean                                                                                                                                                                                                                                                                                                                                               Stop plastic pollution at its source.     protect our kids’ health and    \n",
       "anger                                                                                                                                                                                                                                                                                                                                                                                                                                   0.1169\n",
       "fear                                                                                                                                                                                                                                                                                                                                                                                                                                  0.206122\n",
       "joy                                                                                                                                                                                                                                                                                                                                                                                                                                     0.4375\n",
       "love                                                                                                                                                                                                                                                                                                                                                                                                                                 0.0423767\n",
       "sadness                                                                                                                                                                                                                                                                                                                                                                                                                               0.211166\n",
       "trust                                                                                                                                                                                                                                                                                                                                                                                                                                0.0418169\n",
       "identity_hate                                                                                                                                                                                                                                                                                                                                                                                                                       0.00188033\n",
       "insult                                                                                                                                                                                                                                                                                                                                                                                                                              0.00336857\n",
       "obscene                                                                                                                                                                                                                                                                                                                                                                                                                             0.00359257\n",
       "severe_toxic                                                                                                                                                                                                                                                                                                                                                                                                                        0.00188861\n",
       "threat                                                                                                                                                                                                                                                                                                                                                                                                                              0.00197363\n",
       "toxic                                                                                                                                                                                                                                                                                                                                                                                                                                 0.011558\n",
       "stakeholder                                                                                                                                                                                                                                                                                                                                                                                                                                NGO\n",
       "Name: 50, dtype: object"
      ]
     },
     "execution_count": 6,
     "metadata": {},
     "output_type": "execute_result"
    }
   ],
   "source": [
    "ConversationsLean.iloc[50]"
   ]
  },
  {
   "cell_type": "code",
   "execution_count": 7,
   "id": "deluxe-disposition",
   "metadata": {},
   "outputs": [
    {
     "data": {
      "text/html": [
       "<div>\n",
       "<style scoped>\n",
       "    .dataframe tbody tr th:only-of-type {\n",
       "        vertical-align: middle;\n",
       "    }\n",
       "\n",
       "    .dataframe tbody tr th {\n",
       "        vertical-align: top;\n",
       "    }\n",
       "\n",
       "    .dataframe thead th {\n",
       "        text-align: right;\n",
       "    }\n",
       "</style>\n",
       "<table border=\"1\" class=\"dataframe\">\n",
       "  <thead>\n",
       "    <tr style=\"text-align: right;\">\n",
       "      <th></th>\n",
       "      <th>Unnamed: 0</th>\n",
       "      <th>tweet.created_at</th>\n",
       "      <th>tweet.id</th>\n",
       "      <th>tweet.full_text</th>\n",
       "      <th>tweet.entities</th>\n",
       "      <th>tweet.user.id</th>\n",
       "      <th>tweet.user.screen_name</th>\n",
       "      <th>tweet.user.followers_count</th>\n",
       "      <th>tweet.user.friends_count</th>\n",
       "      <th>tweet.user.favourites_count</th>\n",
       "      <th>...</th>\n",
       "      <th>love</th>\n",
       "      <th>sadness</th>\n",
       "      <th>trust</th>\n",
       "      <th>identity_hate</th>\n",
       "      <th>insult</th>\n",
       "      <th>obscene</th>\n",
       "      <th>severe_toxic</th>\n",
       "      <th>threat</th>\n",
       "      <th>toxic</th>\n",
       "      <th>stakeholder</th>\n",
       "    </tr>\n",
       "  </thead>\n",
       "  <tbody>\n",
       "    <tr>\n",
       "      <th>156</th>\n",
       "      <td>110</td>\n",
       "      <td>2018-03-28 21:35:09.000000</td>\n",
       "      <td>9.791097e+17</td>\n",
       "      <td>Is it time to remake recycling? Listen to the story to find out more.  #recyclingisnotenough #breakfreefromplastic https://t.co/0EYuBWulSr</td>\n",
       "      <td>{'hashtags': [{'text': 'recyclingisnotenough', 'indices': [71, 92]}, {'text': 'breakfreefromplastic', 'indices': [93, 114]}], 'symbols': [], 'user_mentions': [], 'urls': [{'url': 'https://t.co/0EYuBWulSr', 'expanded_url': 'https://the1a.org/shows/2018-03-22/recycling-show', 'display_url': 'the1a.org/shows/2018-03-…', 'indices': [115, 138]}]}</td>\n",
       "      <td>85732762</td>\n",
       "      <td>5gyres</td>\n",
       "      <td>24165</td>\n",
       "      <td>4022</td>\n",
       "      <td>2025</td>\n",
       "      <td>...</td>\n",
       "      <td>0.048335</td>\n",
       "      <td>0.167924</td>\n",
       "      <td>0.028655</td>\n",
       "      <td>0.002453</td>\n",
       "      <td>0.002630</td>\n",
       "      <td>0.002603</td>\n",
       "      <td>0.002396</td>\n",
       "      <td>0.002266</td>\n",
       "      <td>0.003701</td>\n",
       "      <td>NGO</td>\n",
       "    </tr>\n",
       "    <tr>\n",
       "      <th>186</th>\n",
       "      <td>140</td>\n",
       "      <td>2016-05-07 17:29:55.000000</td>\n",
       "      <td>7.290003e+17</td>\n",
       "      <td>#wastedialog @bewastewise I want others to try the #plasticfree challenge to gain awareness of just how pervasive plastic is in our lives.</td>\n",
       "      <td>{'hashtags': [{'text': 'wastedialog', 'indices': [0, 12]}, {'text': 'plasticfree', 'indices': [51, 63]}], 'symbols': [], 'user_mentions': [{'screen_name': 'bewastewise', 'name': 'be Waste Wise', 'id': 1360495946, 'id_str': '1360495946', 'indices': [13, 25]}], 'urls': []}</td>\n",
       "      <td>15071040</td>\n",
       "      <td>PlasticfreeBeth</td>\n",
       "      <td>11649</td>\n",
       "      <td>1469</td>\n",
       "      <td>1371</td>\n",
       "      <td>...</td>\n",
       "      <td>0.041859</td>\n",
       "      <td>0.191772</td>\n",
       "      <td>0.054939</td>\n",
       "      <td>0.002460</td>\n",
       "      <td>0.003083</td>\n",
       "      <td>0.002718</td>\n",
       "      <td>0.002161</td>\n",
       "      <td>0.002123</td>\n",
       "      <td>0.007112</td>\n",
       "      <td>Artist</td>\n",
       "    </tr>\n",
       "    <tr>\n",
       "      <th>328</th>\n",
       "      <td>17</td>\n",
       "      <td>2018-01-11 10:59:25.000000</td>\n",
       "      <td>9.514082e+17</td>\n",
       "      <td>Alongside @circulareconomy, we’re calling on businesses, governments, local authorities, NGOs, media and society to join us to make sure plastic packaging doesn’t end up like this as part of the 25 Year Environment Plan. #circulareconomy #plasticfree https://t.co/SlpAosA1Mo https://t.co/j73VAAct4M</td>\n",
       "      <td>{'hashtags': [{'text': 'circulareconomy', 'indices': [221, 237]}, {'text': 'plasticfree', 'indices': [238, 250]}], 'symbols': [], 'user_mentions': [{'screen_name': 'circulareconomy', 'name': 'Ellen MacArthur Fdn.', 'id': 189134186, 'id_str': '189134186', 'indices': [10, 26]}], 'urls': [{'url': 'https://t.co/SlpAosA1Mo', 'expanded_url': 'http://bit.ly/2ms4q4H', 'display_url': 'bit.ly/2ms4q4H', ...</td>\n",
       "      <td>172694825</td>\n",
       "      <td>WRAP_UK</td>\n",
       "      <td>31772</td>\n",
       "      <td>1901</td>\n",
       "      <td>1963</td>\n",
       "      <td>...</td>\n",
       "      <td>0.062655</td>\n",
       "      <td>0.163517</td>\n",
       "      <td>0.079452</td>\n",
       "      <td>0.002641</td>\n",
       "      <td>0.002691</td>\n",
       "      <td>0.002357</td>\n",
       "      <td>0.002482</td>\n",
       "      <td>0.002280</td>\n",
       "      <td>0.003667</td>\n",
       "      <td>OtherInstitution</td>\n",
       "    </tr>\n",
       "  </tbody>\n",
       "</table>\n",
       "<p>3 rows × 31 columns</p>\n",
       "</div>"
      ],
      "text/plain": [
       "     Unnamed: 0            tweet.created_at      tweet.id  \\\n",
       "156         110  2018-03-28 21:35:09.000000  9.791097e+17   \n",
       "186         140  2016-05-07 17:29:55.000000  7.290003e+17   \n",
       "328          17  2018-01-11 10:59:25.000000  9.514082e+17   \n",
       "\n",
       "                                                                                                                                                                                                                                                                                                tweet.full_text  \\\n",
       "156                                                                                                                                                                  Is it time to remake recycling? Listen to the story to find out more.  #recyclingisnotenough #breakfreefromplastic https://t.co/0EYuBWulSr   \n",
       "186                                                                                                                                                                  #wastedialog @bewastewise I want others to try the #plasticfree challenge to gain awareness of just how pervasive plastic is in our lives.   \n",
       "328  Alongside @circulareconomy, we’re calling on businesses, governments, local authorities, NGOs, media and society to join us to make sure plastic packaging doesn’t end up like this as part of the 25 Year Environment Plan. #circulareconomy #plasticfree https://t.co/SlpAosA1Mo https://t.co/j73VAAct4M   \n",
       "\n",
       "                                                                                                                                                                                                                                                                                                                                                                                                      tweet.entities  \\\n",
       "156                                                          {'hashtags': [{'text': 'recyclingisnotenough', 'indices': [71, 92]}, {'text': 'breakfreefromplastic', 'indices': [93, 114]}], 'symbols': [], 'user_mentions': [], 'urls': [{'url': 'https://t.co/0EYuBWulSr', 'expanded_url': 'https://the1a.org/shows/2018-03-22/recycling-show', 'display_url': 'the1a.org/shows/2018-03-…', 'indices': [115, 138]}]}   \n",
       "186                                                                                                                                  {'hashtags': [{'text': 'wastedialog', 'indices': [0, 12]}, {'text': 'plasticfree', 'indices': [51, 63]}], 'symbols': [], 'user_mentions': [{'screen_name': 'bewastewise', 'name': 'be Waste Wise', 'id': 1360495946, 'id_str': '1360495946', 'indices': [13, 25]}], 'urls': []}   \n",
       "328  {'hashtags': [{'text': 'circulareconomy', 'indices': [221, 237]}, {'text': 'plasticfree', 'indices': [238, 250]}], 'symbols': [], 'user_mentions': [{'screen_name': 'circulareconomy', 'name': 'Ellen MacArthur Fdn.', 'id': 189134186, 'id_str': '189134186', 'indices': [10, 26]}], 'urls': [{'url': 'https://t.co/SlpAosA1Mo', 'expanded_url': 'http://bit.ly/2ms4q4H', 'display_url': 'bit.ly/2ms4q4H', ...   \n",
       "\n",
       "     tweet.user.id tweet.user.screen_name  tweet.user.followers_count  \\\n",
       "156       85732762                 5gyres                       24165   \n",
       "186       15071040        PlasticfreeBeth                       11649   \n",
       "328      172694825                WRAP_UK                       31772   \n",
       "\n",
       "     tweet.user.friends_count  tweet.user.favourites_count  ...      love  \\\n",
       "156                      4022                         2025  ...  0.048335   \n",
       "186                      1469                         1371  ...  0.041859   \n",
       "328                      1901                         1963  ...  0.062655   \n",
       "\n",
       "      sadness     trust  identity_hate    insult   obscene severe_toxic  \\\n",
       "156  0.167924  0.028655       0.002453  0.002630  0.002603     0.002396   \n",
       "186  0.191772  0.054939       0.002460  0.003083  0.002718     0.002161   \n",
       "328  0.163517  0.079452       0.002641  0.002691  0.002357     0.002482   \n",
       "\n",
       "       threat     toxic       stakeholder  \n",
       "156  0.002266  0.003701               NGO  \n",
       "186  0.002123  0.007112            Artist  \n",
       "328  0.002280  0.003667  OtherInstitution  \n",
       "\n",
       "[3 rows x 31 columns]"
      ]
     },
     "execution_count": 7,
     "metadata": {},
     "output_type": "execute_result"
    }
   ],
   "source": [
    "ConversationsLean.sample(3)"
   ]
  },
  {
   "cell_type": "code",
   "execution_count": 8,
   "id": "soviet-upset",
   "metadata": {},
   "outputs": [
    {
     "data": {
      "text/html": [
       "<div>\n",
       "<style scoped>\n",
       "    .dataframe tbody tr th:only-of-type {\n",
       "        vertical-align: middle;\n",
       "    }\n",
       "\n",
       "    .dataframe tbody tr th {\n",
       "        vertical-align: top;\n",
       "    }\n",
       "\n",
       "    .dataframe thead th {\n",
       "        text-align: right;\n",
       "    }\n",
       "</style>\n",
       "<table border=\"1\" class=\"dataframe\">\n",
       "  <thead>\n",
       "    <tr style=\"text-align: right;\">\n",
       "      <th></th>\n",
       "      <th>Unnamed: 0</th>\n",
       "      <th>tweet.created_at</th>\n",
       "      <th>tweet.id</th>\n",
       "      <th>tweet.full_text</th>\n",
       "      <th>tweet.entities</th>\n",
       "      <th>tweet.user.id</th>\n",
       "      <th>tweet.user.screen_name</th>\n",
       "      <th>tweet.user.followers_count</th>\n",
       "      <th>tweet.user.friends_count</th>\n",
       "      <th>tweet.user.favourites_count</th>\n",
       "      <th>...</th>\n",
       "      <th>joy</th>\n",
       "      <th>love</th>\n",
       "      <th>sadness</th>\n",
       "      <th>trust</th>\n",
       "      <th>identity_hate</th>\n",
       "      <th>insult</th>\n",
       "      <th>obscene</th>\n",
       "      <th>severe_toxic</th>\n",
       "      <th>threat</th>\n",
       "      <th>toxic</th>\n",
       "    </tr>\n",
       "    <tr>\n",
       "      <th>stakeholder</th>\n",
       "      <th></th>\n",
       "      <th></th>\n",
       "      <th></th>\n",
       "      <th></th>\n",
       "      <th></th>\n",
       "      <th></th>\n",
       "      <th></th>\n",
       "      <th></th>\n",
       "      <th></th>\n",
       "      <th></th>\n",
       "      <th></th>\n",
       "      <th></th>\n",
       "      <th></th>\n",
       "      <th></th>\n",
       "      <th></th>\n",
       "      <th></th>\n",
       "      <th></th>\n",
       "      <th></th>\n",
       "      <th></th>\n",
       "      <th></th>\n",
       "      <th></th>\n",
       "    </tr>\n",
       "  </thead>\n",
       "  <tbody>\n",
       "    <tr>\n",
       "      <th>Artist</th>\n",
       "      <td>104</td>\n",
       "      <td>104</td>\n",
       "      <td>104</td>\n",
       "      <td>104</td>\n",
       "      <td>104</td>\n",
       "      <td>104</td>\n",
       "      <td>104</td>\n",
       "      <td>104</td>\n",
       "      <td>104</td>\n",
       "      <td>104</td>\n",
       "      <td>...</td>\n",
       "      <td>104</td>\n",
       "      <td>104</td>\n",
       "      <td>104</td>\n",
       "      <td>104</td>\n",
       "      <td>104</td>\n",
       "      <td>104</td>\n",
       "      <td>104</td>\n",
       "      <td>104</td>\n",
       "      <td>104</td>\n",
       "      <td>104</td>\n",
       "    </tr>\n",
       "    <tr>\n",
       "      <th>Multinational</th>\n",
       "      <td>20</td>\n",
       "      <td>20</td>\n",
       "      <td>20</td>\n",
       "      <td>20</td>\n",
       "      <td>20</td>\n",
       "      <td>20</td>\n",
       "      <td>20</td>\n",
       "      <td>20</td>\n",
       "      <td>20</td>\n",
       "      <td>20</td>\n",
       "      <td>...</td>\n",
       "      <td>20</td>\n",
       "      <td>20</td>\n",
       "      <td>20</td>\n",
       "      <td>20</td>\n",
       "      <td>20</td>\n",
       "      <td>20</td>\n",
       "      <td>20</td>\n",
       "      <td>20</td>\n",
       "      <td>20</td>\n",
       "      <td>20</td>\n",
       "    </tr>\n",
       "    <tr>\n",
       "      <th>NGO</th>\n",
       "      <td>241</td>\n",
       "      <td>241</td>\n",
       "      <td>241</td>\n",
       "      <td>241</td>\n",
       "      <td>241</td>\n",
       "      <td>241</td>\n",
       "      <td>241</td>\n",
       "      <td>241</td>\n",
       "      <td>241</td>\n",
       "      <td>241</td>\n",
       "      <td>...</td>\n",
       "      <td>241</td>\n",
       "      <td>241</td>\n",
       "      <td>241</td>\n",
       "      <td>241</td>\n",
       "      <td>241</td>\n",
       "      <td>241</td>\n",
       "      <td>241</td>\n",
       "      <td>241</td>\n",
       "      <td>241</td>\n",
       "      <td>241</td>\n",
       "    </tr>\n",
       "    <tr>\n",
       "      <th>OtherInstitution</th>\n",
       "      <td>51</td>\n",
       "      <td>51</td>\n",
       "      <td>51</td>\n",
       "      <td>51</td>\n",
       "      <td>51</td>\n",
       "      <td>51</td>\n",
       "      <td>51</td>\n",
       "      <td>51</td>\n",
       "      <td>51</td>\n",
       "      <td>51</td>\n",
       "      <td>...</td>\n",
       "      <td>51</td>\n",
       "      <td>51</td>\n",
       "      <td>51</td>\n",
       "      <td>51</td>\n",
       "      <td>51</td>\n",
       "      <td>51</td>\n",
       "      <td>51</td>\n",
       "      <td>51</td>\n",
       "      <td>51</td>\n",
       "      <td>51</td>\n",
       "    </tr>\n",
       "    <tr>\n",
       "      <th>Scientific</th>\n",
       "      <td>24</td>\n",
       "      <td>24</td>\n",
       "      <td>24</td>\n",
       "      <td>24</td>\n",
       "      <td>24</td>\n",
       "      <td>24</td>\n",
       "      <td>24</td>\n",
       "      <td>24</td>\n",
       "      <td>24</td>\n",
       "      <td>24</td>\n",
       "      <td>...</td>\n",
       "      <td>24</td>\n",
       "      <td>24</td>\n",
       "      <td>24</td>\n",
       "      <td>24</td>\n",
       "      <td>24</td>\n",
       "      <td>24</td>\n",
       "      <td>24</td>\n",
       "      <td>24</td>\n",
       "      <td>24</td>\n",
       "      <td>24</td>\n",
       "    </tr>\n",
       "  </tbody>\n",
       "</table>\n",
       "<p>5 rows × 30 columns</p>\n",
       "</div>"
      ],
      "text/plain": [
       "                  Unnamed: 0  tweet.created_at  tweet.id  tweet.full_text  \\\n",
       "stakeholder                                                                 \n",
       "Artist                   104               104       104              104   \n",
       "Multinational             20                20        20               20   \n",
       "NGO                      241               241       241              241   \n",
       "OtherInstitution          51                51        51               51   \n",
       "Scientific                24                24        24               24   \n",
       "\n",
       "                  tweet.entities  tweet.user.id  tweet.user.screen_name  \\\n",
       "stakeholder                                                               \n",
       "Artist                       104            104                     104   \n",
       "Multinational                 20             20                      20   \n",
       "NGO                          241            241                     241   \n",
       "OtherInstitution              51             51                      51   \n",
       "Scientific                    24             24                      24   \n",
       "\n",
       "                  tweet.user.followers_count  tweet.user.friends_count  \\\n",
       "stakeholder                                                              \n",
       "Artist                                   104                       104   \n",
       "Multinational                             20                        20   \n",
       "NGO                                      241                       241   \n",
       "OtherInstitution                          51                        51   \n",
       "Scientific                                24                        24   \n",
       "\n",
       "                  tweet.user.favourites_count  ...  joy  love  sadness  trust  \\\n",
       "stakeholder                                    ...                              \n",
       "Artist                                    104  ...  104   104      104    104   \n",
       "Multinational                              20  ...   20    20       20     20   \n",
       "NGO                                       241  ...  241   241      241    241   \n",
       "OtherInstitution                           51  ...   51    51       51     51   \n",
       "Scientific                                 24  ...   24    24       24     24   \n",
       "\n",
       "                  identity_hate  insult  obscene  severe_toxic  threat  toxic  \n",
       "stakeholder                                                                    \n",
       "Artist                      104     104      104           104     104    104  \n",
       "Multinational                20      20       20            20      20     20  \n",
       "NGO                         241     241      241           241     241    241  \n",
       "OtherInstitution             51      51       51            51      51     51  \n",
       "Scientific                   24      24       24            24      24     24  \n",
       "\n",
       "[5 rows x 30 columns]"
      ]
     },
     "execution_count": 8,
     "metadata": {},
     "output_type": "execute_result"
    }
   ],
   "source": [
    "ConversationsLean.groupby('stakeholder').count()"
   ]
  },
  {
   "cell_type": "code",
   "execution_count": null,
   "id": "graduate-answer",
   "metadata": {},
   "outputs": [],
   "source": []
  },
  {
   "cell_type": "markdown",
   "id": "hawaiian-bracelet",
   "metadata": {},
   "source": [
    "## Task 1. Which Twitter users are the most influential ? (10%)\n",
    "### For each Task please: (1) develop the code required and (2) provide a brief discussion and interpretation of the results"
   ]
  },
  {
   "cell_type": "code",
   "execution_count": null,
   "id": "honey-paint",
   "metadata": {},
   "outputs": [],
   "source": []
  },
  {
   "cell_type": "code",
   "execution_count": null,
   "id": "dominant-nightmare",
   "metadata": {},
   "outputs": [],
   "source": []
  },
  {
   "cell_type": "markdown",
   "id": "southern-layer",
   "metadata": {},
   "source": [
    "## Task 2. Which Twitter users are specially concerned about plastic pollution ? (10%)\n",
    "### For each Task please: (1) develop the code required and (2) provide a brief discussion and interpretation of the results"
   ]
  },
  {
   "cell_type": "markdown",
   "id": "hired-august",
   "metadata": {},
   "source": [
    "### Tip: determine which twitter users have strong levels of negative emotions in their conversations"
   ]
  },
  {
   "cell_type": "code",
   "execution_count": null,
   "id": "automotive-cache",
   "metadata": {},
   "outputs": [],
   "source": []
  },
  {
   "cell_type": "code",
   "execution_count": null,
   "id": "southwest-numbers",
   "metadata": {},
   "outputs": [],
   "source": []
  },
  {
   "cell_type": "code",
   "execution_count": null,
   "id": "august-while",
   "metadata": {},
   "outputs": [],
   "source": []
  },
  {
   "cell_type": "markdown",
   "id": "yellow-backup",
   "metadata": {},
   "source": [
    "## Task 2. Which Twitter users are against Coca Cola? (30%)\n",
    "### For each Task please: (1) develop the code required and (2) provide a brief discussion and interpretation of the results"
   ]
  },
  {
   "cell_type": "markdown",
   "id": "genuine-hostel",
   "metadata": {},
   "source": [
    "### Tip: determine which twitter users are mentioning Coca Cola and have strong levels of negative emotions in their conversations"
   ]
  },
  {
   "cell_type": "code",
   "execution_count": null,
   "id": "apart-fight",
   "metadata": {},
   "outputs": [],
   "source": []
  },
  {
   "cell_type": "code",
   "execution_count": null,
   "id": "spoken-scholar",
   "metadata": {},
   "outputs": [],
   "source": []
  },
  {
   "cell_type": "code",
   "execution_count": null,
   "id": "owned-brazilian",
   "metadata": {},
   "outputs": [],
   "source": []
  },
  {
   "cell_type": "code",
   "execution_count": null,
   "id": "public-winning",
   "metadata": {},
   "outputs": [],
   "source": []
  },
  {
   "cell_type": "code",
   "execution_count": null,
   "id": "incorporate-riding",
   "metadata": {},
   "outputs": [],
   "source": []
  },
  {
   "cell_type": "code",
   "execution_count": null,
   "id": "aggregate-asbestos",
   "metadata": {},
   "outputs": [],
   "source": []
  },
  {
   "cell_type": "code",
   "execution_count": null,
   "id": "binding-philip",
   "metadata": {},
   "outputs": [],
   "source": []
  },
  {
   "cell_type": "markdown",
   "id": "capital-stylus",
   "metadata": {},
   "source": [
    "## Task 4. Develop and apply a function which: (1) extracts ALL the hashtags from the column 'tweet.full_text', (2) saves the result as a new column (10%)\n",
    "### For each Task please: (1) develop the code required and (2) provide a brief discussion and interpretation of the results"
   ]
  },
  {
   "cell_type": "markdown",
   "id": "integrated-planet",
   "metadata": {},
   "source": [
    "### Tip: consider lambda functions applied to a dataframe"
   ]
  },
  {
   "cell_type": "markdown",
   "id": "published-reggae",
   "metadata": {},
   "source": [
    "### Tip: refer to the module labs for examples on how to use REGEX in the context of pandas dataframes"
   ]
  },
  {
   "cell_type": "code",
   "execution_count": null,
   "id": "optical-poster",
   "metadata": {},
   "outputs": [],
   "source": []
  },
  {
   "cell_type": "code",
   "execution_count": null,
   "id": "classical-mailing",
   "metadata": {},
   "outputs": [],
   "source": []
  },
  {
   "cell_type": "code",
   "execution_count": null,
   "id": "reflected-sessions",
   "metadata": {},
   "outputs": [],
   "source": []
  },
  {
   "cell_type": "code",
   "execution_count": null,
   "id": "victorian-virus",
   "metadata": {},
   "outputs": [],
   "source": []
  },
  {
   "cell_type": "code",
   "execution_count": null,
   "id": "injured-agriculture",
   "metadata": {},
   "outputs": [],
   "source": []
  },
  {
   "cell_type": "code",
   "execution_count": null,
   "id": "opening-married",
   "metadata": {},
   "outputs": [],
   "source": []
  },
  {
   "cell_type": "markdown",
   "id": "frozen-devon",
   "metadata": {},
   "source": [
    "## Task 6. what are your recommendations for Coca Cola as far as social media is concerned ?   (40%)"
   ]
  },
  {
   "cell_type": "code",
   "execution_count": null,
   "id": "competent-produce",
   "metadata": {},
   "outputs": [],
   "source": []
  },
  {
   "cell_type": "code",
   "execution_count": null,
   "id": "oriental-grove",
   "metadata": {},
   "outputs": [],
   "source": []
  }
 ],
 "metadata": {
  "kernelspec": {
   "display_name": "Python 3",
   "language": "python",
   "name": "python3"
  },
  "language_info": {
   "codemirror_mode": {
    "name": "ipython",
    "version": 3
   },
   "file_extension": ".py",
   "mimetype": "text/x-python",
   "name": "python",
   "nbconvert_exporter": "python",
   "pygments_lexer": "ipython3",
   "version": "3.7.10"
  }
 },
 "nbformat": 4,
 "nbformat_minor": 5
}
